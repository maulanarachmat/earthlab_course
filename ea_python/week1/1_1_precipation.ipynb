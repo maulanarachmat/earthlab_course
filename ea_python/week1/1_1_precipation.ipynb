{
 "cells": [
  {
   "cell_type": "code",
   "execution_count": 2,
   "metadata": {},
   "outputs": [
    {
     "data": {
      "text/plain": [
       "'D:\\\\00Course\\\\earthlab_course\\\\ea_python\\\\week1'"
      ]
     },
     "execution_count": 2,
     "metadata": {},
     "output_type": "execute_result"
    }
   ],
   "source": [
    "pwd"
   ]
  },
  {
   "cell_type": "code",
   "execution_count": 3,
   "metadata": {},
   "outputs": [],
   "source": [
    "import pandas as pd\n",
    "import matplotlib.pyplot as plt"
   ]
  },
  {
   "cell_type": "code",
   "execution_count": 5,
   "metadata": {},
   "outputs": [],
   "source": [
    "data = pd.read_csv(\"../../../data/downloads/boulder-precip.csv\")"
   ]
  },
  {
   "cell_type": "code",
   "execution_count": 6,
   "metadata": {},
   "outputs": [
    {
     "name": "stdout",
     "output_type": "stream",
     "text": [
      "<bound method NDFrame.head of     Unnamed: 0        DATE  PRECIP\n",
      "0          756  2013-08-21     0.1\n",
      "1          757  2013-08-26     0.1\n",
      "2          758  2013-08-27     0.1\n",
      "3          759  2013-09-01     0.0\n",
      "4          760  2013-09-09     0.1\n",
      "5          761  2013-09-10     1.0\n",
      "6          762  2013-09-11     2.3\n",
      "7          763  2013-09-12     9.8\n",
      "8          764  2013-09-13     1.9\n",
      "9          765  2013-09-15     1.4\n",
      "10         766  2013-09-16     0.4\n",
      "11         767  2013-09-22     0.1\n",
      "12         768  2013-09-23     0.3\n",
      "13         769  2013-09-27     0.3\n",
      "14         770  2013-09-28     0.1\n",
      "15         771  2013-10-01     0.0\n",
      "16         772  2013-10-04     0.9\n",
      "17         773  2013-10-11     0.1>\n"
     ]
    }
   ],
   "source": [
    "print(data.head)"
   ]
  },
  {
   "cell_type": "code",
   "execution_count": 7,
   "metadata": {},
   "outputs": [
    {
     "data": {
      "text/plain": [
       "[<matplotlib.lines.Line2D at 0x917a4a8>]"
      ]
     },
     "execution_count": 7,
     "metadata": {},
     "output_type": "execute_result"
    },
    {
     "data": {
      "image/png": "[encoded data removed]",
      "text/plain": [
       "<Figure size 432x288 with 1 Axes>"
      ]
     },
     "metadata": {
      "needs_background": "light"
     },
     "output_type": "display_data"
    }
   ],
   "source": [
    "plt.plot(data.DATE, data.PRECIP)"
   ]
  },
  {
   "cell_type": "code",
   "execution_count": null,
   "metadata": {},
   "outputs": [],
   "source": []
  }
 ],
 "metadata": {
  "kernelspec": {
   "display_name": "Python 3",
   "language": "python",
   "name": "python3"
  },
  "language_info": {
   "codemirror_mode": {
    "name": "ipython",
    "version": 3
   },
   "file_extension": ".py",
   "mimetype": "text/x-python",
   "name": "python",
   "nbconvert_exporter": "python",
   "pygments_lexer": "ipython3",
   "version": "3.7.3"
  }
 },
 "nbformat": 4,
 "nbformat_minor": 2
}
